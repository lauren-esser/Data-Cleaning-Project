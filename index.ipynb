{
 "cells": [
  {
   "cell_type": "markdown",
   "metadata": {},
   "source": [
    "# Project - Data Cleaning\n",
    "\n",
    "## Introduction\n",
    "In this lab, we'll make use of everything we've learned about pandas, data cleaning, and exploratory data analysis. In order to complete this lab, you'll have to import, clean, combine, reshape, and visualize data to answer questions provided, as well as your own questions!\n",
    "\n",
    "## Objectives\n",
    "You will be able to:\n",
    "- Use different types of joins to merge DataFrames \n",
    "- Identify missing values in a dataframe using built-in methods \n",
    "- Evaluate and execute the best strategy for dealing with missing, duplicate, and erroneous values for a given dataset \n",
    "- Inspect data for duplicates or extraneous values and remove them \n",
    "\n",
    "\n",
    "## The dataset\n",
    "In this lab, we'll work with the comprehensive [Super Heroes Dataset](https://www.kaggle.com/claudiodavi/superhero-set/data), which can be found on Kaggle!\n",
    "\n",
    "\n",
    "## Getting Started\n",
    "\n",
    "In the cell below:\n",
    "\n",
    "* Import and alias pandas as `pd`\n",
    "* Import and alias numpy as `np`\n",
    "* Import and alias seaborn as `sns`\n",
    "* Import and alias matplotlib.pyplot as `plt`\n",
    "* Set matplotlib visualizations to display inline in the notebook"
   ]
  },
  {
   "cell_type": "code",
   "execution_count": 1,
   "metadata": {},
   "outputs": [],
   "source": [
    "import pandas as pd\n",
    "import numpy as np\n",
    "import seaborn as sns\n",
    "import matplotlib.pyplot as plt\n",
    "%matplotlib inline"
   ]
  },
  {
   "cell_type": "markdown",
   "metadata": {},
   "source": [
    "For this lab, our dataset is split among two different sources -- `'heroes_information.csv'` and `'super_hero_powers.csv'`.\n",
    "\n",
    "Use pandas to read in each file and store them in DataFrames in the appropriate variables below. Then, display the `.head()` of each to ensure that everything loaded correctly.  "
   ]
  },
  {
   "cell_type": "code",
   "execution_count": 2,
   "metadata": {},
   "outputs": [
    {
     "data": {
      "text/html": [
       "<div>\n",
       "<style scoped>\n",
       "    .dataframe tbody tr th:only-of-type {\n",
       "        vertical-align: middle;\n",
       "    }\n",
       "\n",
       "    .dataframe tbody tr th {\n",
       "        vertical-align: top;\n",
       "    }\n",
       "\n",
       "    .dataframe thead th {\n",
       "        text-align: right;\n",
       "    }\n",
       "</style>\n",
       "<table border=\"1\" class=\"dataframe\">\n",
       "  <thead>\n",
       "    <tr style=\"text-align: right;\">\n",
       "      <th></th>\n",
       "      <th>Unnamed: 0</th>\n",
       "      <th>name</th>\n",
       "      <th>Gender</th>\n",
       "      <th>Eye color</th>\n",
       "      <th>Race</th>\n",
       "      <th>Hair color</th>\n",
       "      <th>Height</th>\n",
       "      <th>Publisher</th>\n",
       "      <th>Skin color</th>\n",
       "      <th>Alignment</th>\n",
       "      <th>Weight</th>\n",
       "    </tr>\n",
       "  </thead>\n",
       "  <tbody>\n",
       "    <tr>\n",
       "      <td>0</td>\n",
       "      <td>0</td>\n",
       "      <td>A-Bomb</td>\n",
       "      <td>Male</td>\n",
       "      <td>yellow</td>\n",
       "      <td>Human</td>\n",
       "      <td>No Hair</td>\n",
       "      <td>203.0</td>\n",
       "      <td>Marvel Comics</td>\n",
       "      <td>-</td>\n",
       "      <td>good</td>\n",
       "      <td>441.0</td>\n",
       "    </tr>\n",
       "    <tr>\n",
       "      <td>1</td>\n",
       "      <td>1</td>\n",
       "      <td>Abe Sapien</td>\n",
       "      <td>Male</td>\n",
       "      <td>blue</td>\n",
       "      <td>Icthyo Sapien</td>\n",
       "      <td>No Hair</td>\n",
       "      <td>191.0</td>\n",
       "      <td>Dark Horse Comics</td>\n",
       "      <td>blue</td>\n",
       "      <td>good</td>\n",
       "      <td>65.0</td>\n",
       "    </tr>\n",
       "    <tr>\n",
       "      <td>2</td>\n",
       "      <td>2</td>\n",
       "      <td>Abin Sur</td>\n",
       "      <td>Male</td>\n",
       "      <td>blue</td>\n",
       "      <td>Ungaran</td>\n",
       "      <td>No Hair</td>\n",
       "      <td>185.0</td>\n",
       "      <td>DC Comics</td>\n",
       "      <td>red</td>\n",
       "      <td>good</td>\n",
       "      <td>90.0</td>\n",
       "    </tr>\n",
       "    <tr>\n",
       "      <td>3</td>\n",
       "      <td>3</td>\n",
       "      <td>Abomination</td>\n",
       "      <td>Male</td>\n",
       "      <td>green</td>\n",
       "      <td>Human / Radiation</td>\n",
       "      <td>No Hair</td>\n",
       "      <td>203.0</td>\n",
       "      <td>Marvel Comics</td>\n",
       "      <td>-</td>\n",
       "      <td>bad</td>\n",
       "      <td>441.0</td>\n",
       "    </tr>\n",
       "    <tr>\n",
       "      <td>4</td>\n",
       "      <td>4</td>\n",
       "      <td>Abraxas</td>\n",
       "      <td>Male</td>\n",
       "      <td>blue</td>\n",
       "      <td>Cosmic Entity</td>\n",
       "      <td>Black</td>\n",
       "      <td>-99.0</td>\n",
       "      <td>Marvel Comics</td>\n",
       "      <td>-</td>\n",
       "      <td>bad</td>\n",
       "      <td>-99.0</td>\n",
       "    </tr>\n",
       "  </tbody>\n",
       "</table>\n",
       "</div>"
      ],
      "text/plain": [
       "   Unnamed: 0         name Gender Eye color               Race Hair color  \\\n",
       "0           0       A-Bomb   Male    yellow              Human    No Hair   \n",
       "1           1   Abe Sapien   Male      blue      Icthyo Sapien    No Hair   \n",
       "2           2     Abin Sur   Male      blue            Ungaran    No Hair   \n",
       "3           3  Abomination   Male     green  Human / Radiation    No Hair   \n",
       "4           4      Abraxas   Male      blue      Cosmic Entity      Black   \n",
       "\n",
       "   Height          Publisher Skin color Alignment  Weight  \n",
       "0   203.0      Marvel Comics          -      good   441.0  \n",
       "1   191.0  Dark Horse Comics       blue      good    65.0  \n",
       "2   185.0          DC Comics        red      good    90.0  \n",
       "3   203.0      Marvel Comics          -       bad   441.0  \n",
       "4   -99.0      Marvel Comics          -       bad   -99.0  "
      ]
     },
     "metadata": {},
     "output_type": "display_data"
    },
    {
     "data": {
      "text/html": [
       "<div>\n",
       "<style scoped>\n",
       "    .dataframe tbody tr th:only-of-type {\n",
       "        vertical-align: middle;\n",
       "    }\n",
       "\n",
       "    .dataframe tbody tr th {\n",
       "        vertical-align: top;\n",
       "    }\n",
       "\n",
       "    .dataframe thead th {\n",
       "        text-align: right;\n",
       "    }\n",
       "</style>\n",
       "<table border=\"1\" class=\"dataframe\">\n",
       "  <thead>\n",
       "    <tr style=\"text-align: right;\">\n",
       "      <th></th>\n",
       "      <th>hero_names</th>\n",
       "      <th>Agility</th>\n",
       "      <th>Accelerated Healing</th>\n",
       "      <th>Lantern Power Ring</th>\n",
       "      <th>Dimensional Awareness</th>\n",
       "      <th>Cold Resistance</th>\n",
       "      <th>Durability</th>\n",
       "      <th>Stealth</th>\n",
       "      <th>Energy Absorption</th>\n",
       "      <th>Flight</th>\n",
       "      <th>...</th>\n",
       "      <th>Web Creation</th>\n",
       "      <th>Reality Warping</th>\n",
       "      <th>Odin Force</th>\n",
       "      <th>Symbiote Costume</th>\n",
       "      <th>Speed Force</th>\n",
       "      <th>Phoenix Force</th>\n",
       "      <th>Molecular Dissipation</th>\n",
       "      <th>Vision - Cryo</th>\n",
       "      <th>Omnipresent</th>\n",
       "      <th>Omniscient</th>\n",
       "    </tr>\n",
       "  </thead>\n",
       "  <tbody>\n",
       "    <tr>\n",
       "      <td>0</td>\n",
       "      <td>3-D Man</td>\n",
       "      <td>True</td>\n",
       "      <td>False</td>\n",
       "      <td>False</td>\n",
       "      <td>False</td>\n",
       "      <td>False</td>\n",
       "      <td>False</td>\n",
       "      <td>False</td>\n",
       "      <td>False</td>\n",
       "      <td>False</td>\n",
       "      <td>...</td>\n",
       "      <td>False</td>\n",
       "      <td>False</td>\n",
       "      <td>False</td>\n",
       "      <td>False</td>\n",
       "      <td>False</td>\n",
       "      <td>False</td>\n",
       "      <td>False</td>\n",
       "      <td>False</td>\n",
       "      <td>False</td>\n",
       "      <td>False</td>\n",
       "    </tr>\n",
       "    <tr>\n",
       "      <td>1</td>\n",
       "      <td>A-Bomb</td>\n",
       "      <td>False</td>\n",
       "      <td>True</td>\n",
       "      <td>False</td>\n",
       "      <td>False</td>\n",
       "      <td>False</td>\n",
       "      <td>True</td>\n",
       "      <td>False</td>\n",
       "      <td>False</td>\n",
       "      <td>False</td>\n",
       "      <td>...</td>\n",
       "      <td>False</td>\n",
       "      <td>False</td>\n",
       "      <td>False</td>\n",
       "      <td>False</td>\n",
       "      <td>False</td>\n",
       "      <td>False</td>\n",
       "      <td>False</td>\n",
       "      <td>False</td>\n",
       "      <td>False</td>\n",
       "      <td>False</td>\n",
       "    </tr>\n",
       "    <tr>\n",
       "      <td>2</td>\n",
       "      <td>Abe Sapien</td>\n",
       "      <td>True</td>\n",
       "      <td>True</td>\n",
       "      <td>False</td>\n",
       "      <td>False</td>\n",
       "      <td>True</td>\n",
       "      <td>True</td>\n",
       "      <td>False</td>\n",
       "      <td>False</td>\n",
       "      <td>False</td>\n",
       "      <td>...</td>\n",
       "      <td>False</td>\n",
       "      <td>False</td>\n",
       "      <td>False</td>\n",
       "      <td>False</td>\n",
       "      <td>False</td>\n",
       "      <td>False</td>\n",
       "      <td>False</td>\n",
       "      <td>False</td>\n",
       "      <td>False</td>\n",
       "      <td>False</td>\n",
       "    </tr>\n",
       "    <tr>\n",
       "      <td>3</td>\n",
       "      <td>Abin Sur</td>\n",
       "      <td>False</td>\n",
       "      <td>False</td>\n",
       "      <td>True</td>\n",
       "      <td>False</td>\n",
       "      <td>False</td>\n",
       "      <td>False</td>\n",
       "      <td>False</td>\n",
       "      <td>False</td>\n",
       "      <td>False</td>\n",
       "      <td>...</td>\n",
       "      <td>False</td>\n",
       "      <td>False</td>\n",
       "      <td>False</td>\n",
       "      <td>False</td>\n",
       "      <td>False</td>\n",
       "      <td>False</td>\n",
       "      <td>False</td>\n",
       "      <td>False</td>\n",
       "      <td>False</td>\n",
       "      <td>False</td>\n",
       "    </tr>\n",
       "    <tr>\n",
       "      <td>4</td>\n",
       "      <td>Abomination</td>\n",
       "      <td>False</td>\n",
       "      <td>True</td>\n",
       "      <td>False</td>\n",
       "      <td>False</td>\n",
       "      <td>False</td>\n",
       "      <td>False</td>\n",
       "      <td>False</td>\n",
       "      <td>False</td>\n",
       "      <td>False</td>\n",
       "      <td>...</td>\n",
       "      <td>False</td>\n",
       "      <td>False</td>\n",
       "      <td>False</td>\n",
       "      <td>False</td>\n",
       "      <td>False</td>\n",
       "      <td>False</td>\n",
       "      <td>False</td>\n",
       "      <td>False</td>\n",
       "      <td>False</td>\n",
       "      <td>False</td>\n",
       "    </tr>\n",
       "  </tbody>\n",
       "</table>\n",
       "<p>5 rows × 168 columns</p>\n",
       "</div>"
      ],
      "text/plain": [
       "    hero_names  Agility  Accelerated Healing  Lantern Power Ring  \\\n",
       "0      3-D Man     True                False               False   \n",
       "1       A-Bomb    False                 True               False   \n",
       "2   Abe Sapien     True                 True               False   \n",
       "3     Abin Sur    False                False                True   \n",
       "4  Abomination    False                 True               False   \n",
       "\n",
       "   Dimensional Awareness  Cold Resistance  Durability  Stealth  \\\n",
       "0                  False            False       False    False   \n",
       "1                  False            False        True    False   \n",
       "2                  False             True        True    False   \n",
       "3                  False            False       False    False   \n",
       "4                  False            False       False    False   \n",
       "\n",
       "   Energy Absorption  Flight  ...  Web Creation  Reality Warping  Odin Force  \\\n",
       "0              False   False  ...         False            False       False   \n",
       "1              False   False  ...         False            False       False   \n",
       "2              False   False  ...         False            False       False   \n",
       "3              False   False  ...         False            False       False   \n",
       "4              False   False  ...         False            False       False   \n",
       "\n",
       "   Symbiote Costume  Speed Force  Phoenix Force  Molecular Dissipation  \\\n",
       "0             False        False          False                  False   \n",
       "1             False        False          False                  False   \n",
       "2             False        False          False                  False   \n",
       "3             False        False          False                  False   \n",
       "4             False        False          False                  False   \n",
       "\n",
       "   Vision - Cryo  Omnipresent  Omniscient  \n",
       "0          False        False       False  \n",
       "1          False        False       False  \n",
       "2          False        False       False  \n",
       "3          False        False       False  \n",
       "4          False        False       False  \n",
       "\n",
       "[5 rows x 168 columns]"
      ]
     },
     "execution_count": 2,
     "metadata": {},
     "output_type": "execute_result"
    }
   ],
   "source": [
    "heroes_df = pd.read_csv('heroes_information.csv')\n",
    "powers_df = pd.read_csv('super_hero_powers.csv')\n",
    "\n",
    "display(heroes_df.head())\n",
    "\n",
    "powers_df.head()"
   ]
  },
  {
   "cell_type": "markdown",
   "metadata": {},
   "source": [
    "It looks as if the heroes information dataset contained an index column.  We did not specify that this dataset contained an index column, because we hadn't seen it yet. Pandas does not know how to tell apart an index column from any other data, so it stored it with the column name `Unnamed: 0`.  \n",
    "\n",
    "Our DataFrame provided row indices by default, so this column is not needed.  Drop it from the DataFrame in place in the cell below, and then display the head of `heroes_df` to ensure that it worked properly. "
   ]
  },
  {
   "cell_type": "code",
   "execution_count": 3,
   "metadata": {},
   "outputs": [],
   "source": [
    "heroes_df = heroes_df.drop('Unnamed: 0', axis = 1)"
   ]
  },
  {
   "cell_type": "code",
   "execution_count": 4,
   "metadata": {},
   "outputs": [
    {
     "data": {
      "text/html": [
       "<div>\n",
       "<style scoped>\n",
       "    .dataframe tbody tr th:only-of-type {\n",
       "        vertical-align: middle;\n",
       "    }\n",
       "\n",
       "    .dataframe tbody tr th {\n",
       "        vertical-align: top;\n",
       "    }\n",
       "\n",
       "    .dataframe thead th {\n",
       "        text-align: right;\n",
       "    }\n",
       "</style>\n",
       "<table border=\"1\" class=\"dataframe\">\n",
       "  <thead>\n",
       "    <tr style=\"text-align: right;\">\n",
       "      <th></th>\n",
       "      <th>name</th>\n",
       "      <th>Gender</th>\n",
       "      <th>Eye color</th>\n",
       "      <th>Race</th>\n",
       "      <th>Hair color</th>\n",
       "      <th>Height</th>\n",
       "      <th>Publisher</th>\n",
       "      <th>Skin color</th>\n",
       "      <th>Alignment</th>\n",
       "      <th>Weight</th>\n",
       "    </tr>\n",
       "  </thead>\n",
       "  <tbody>\n",
       "    <tr>\n",
       "      <td>0</td>\n",
       "      <td>A-Bomb</td>\n",
       "      <td>Male</td>\n",
       "      <td>yellow</td>\n",
       "      <td>Human</td>\n",
       "      <td>No Hair</td>\n",
       "      <td>203.0</td>\n",
       "      <td>Marvel Comics</td>\n",
       "      <td>-</td>\n",
       "      <td>good</td>\n",
       "      <td>441.0</td>\n",
       "    </tr>\n",
       "    <tr>\n",
       "      <td>1</td>\n",
       "      <td>Abe Sapien</td>\n",
       "      <td>Male</td>\n",
       "      <td>blue</td>\n",
       "      <td>Icthyo Sapien</td>\n",
       "      <td>No Hair</td>\n",
       "      <td>191.0</td>\n",
       "      <td>Dark Horse Comics</td>\n",
       "      <td>blue</td>\n",
       "      <td>good</td>\n",
       "      <td>65.0</td>\n",
       "    </tr>\n",
       "    <tr>\n",
       "      <td>2</td>\n",
       "      <td>Abin Sur</td>\n",
       "      <td>Male</td>\n",
       "      <td>blue</td>\n",
       "      <td>Ungaran</td>\n",
       "      <td>No Hair</td>\n",
       "      <td>185.0</td>\n",
       "      <td>DC Comics</td>\n",
       "      <td>red</td>\n",
       "      <td>good</td>\n",
       "      <td>90.0</td>\n",
       "    </tr>\n",
       "    <tr>\n",
       "      <td>3</td>\n",
       "      <td>Abomination</td>\n",
       "      <td>Male</td>\n",
       "      <td>green</td>\n",
       "      <td>Human / Radiation</td>\n",
       "      <td>No Hair</td>\n",
       "      <td>203.0</td>\n",
       "      <td>Marvel Comics</td>\n",
       "      <td>-</td>\n",
       "      <td>bad</td>\n",
       "      <td>441.0</td>\n",
       "    </tr>\n",
       "    <tr>\n",
       "      <td>4</td>\n",
       "      <td>Abraxas</td>\n",
       "      <td>Male</td>\n",
       "      <td>blue</td>\n",
       "      <td>Cosmic Entity</td>\n",
       "      <td>Black</td>\n",
       "      <td>-99.0</td>\n",
       "      <td>Marvel Comics</td>\n",
       "      <td>-</td>\n",
       "      <td>bad</td>\n",
       "      <td>-99.0</td>\n",
       "    </tr>\n",
       "  </tbody>\n",
       "</table>\n",
       "</div>"
      ],
      "text/plain": [
       "          name Gender Eye color               Race Hair color  Height  \\\n",
       "0       A-Bomb   Male    yellow              Human    No Hair   203.0   \n",
       "1   Abe Sapien   Male      blue      Icthyo Sapien    No Hair   191.0   \n",
       "2     Abin Sur   Male      blue            Ungaran    No Hair   185.0   \n",
       "3  Abomination   Male     green  Human / Radiation    No Hair   203.0   \n",
       "4      Abraxas   Male      blue      Cosmic Entity      Black   -99.0   \n",
       "\n",
       "           Publisher Skin color Alignment  Weight  \n",
       "0      Marvel Comics          -      good   441.0  \n",
       "1  Dark Horse Comics       blue      good    65.0  \n",
       "2          DC Comics        red      good    90.0  \n",
       "3      Marvel Comics          -       bad   441.0  \n",
       "4      Marvel Comics          -       bad   -99.0  "
      ]
     },
     "execution_count": 4,
     "metadata": {},
     "output_type": "execute_result"
    }
   ],
   "source": [
    "heroes_df.head()"
   ]
  },
  {
   "cell_type": "markdown",
   "metadata": {},
   "source": [
    "## Familiarize yourself with the dataset\n",
    "\n",
    "The first step in our Exploratory Data Analysis will be to get familiar with the data.  This step includes:\n",
    "\n",
    "* Understanding the dimensionality of your dataset\n",
    "* Investigating what type of data it contains, and the data types used to store it\n",
    "* Discovering how missing values are encoded, and how many there are\n",
    "* Getting a feel for what information it does and doesn't contain\n",
    "\n",
    "In the cell below, get the descriptive statistics of each DataFrame.  "
   ]
  },
  {
   "cell_type": "code",
   "execution_count": 5,
   "metadata": {},
   "outputs": [
    {
     "data": {
      "text/plain": [
       "((734, 10), (667, 168))"
      ]
     },
     "execution_count": 5,
     "metadata": {},
     "output_type": "execute_result"
    }
   ],
   "source": [
    "heroes_df.shape, powers_df.shape"
   ]
  },
  {
   "cell_type": "code",
   "execution_count": 6,
   "metadata": {},
   "outputs": [
    {
     "data": {
      "text/plain": [
       "name           object\n",
       "Gender         object\n",
       "Eye color      object\n",
       "Race           object\n",
       "Hair color     object\n",
       "Height        float64\n",
       "Publisher      object\n",
       "Skin color     object\n",
       "Alignment      object\n",
       "Weight        float64\n",
       "dtype: object"
      ]
     },
     "execution_count": 6,
     "metadata": {},
     "output_type": "execute_result"
    }
   ],
   "source": [
    "heroes_df.dtypes"
   ]
  },
  {
   "cell_type": "code",
   "execution_count": 7,
   "metadata": {},
   "outputs": [
    {
     "name": "stdout",
     "output_type": "stream",
     "text": [
      "<class 'pandas.core.frame.DataFrame'>\n",
      "RangeIndex: 734 entries, 0 to 733\n",
      "Data columns (total 10 columns):\n",
      "name          734 non-null object\n",
      "Gender        734 non-null object\n",
      "Eye color     734 non-null object\n",
      "Race          734 non-null object\n",
      "Hair color    734 non-null object\n",
      "Height        734 non-null float64\n",
      "Publisher     719 non-null object\n",
      "Skin color    734 non-null object\n",
      "Alignment     734 non-null object\n",
      "Weight        732 non-null float64\n",
      "dtypes: float64(2), object(8)\n",
      "memory usage: 57.5+ KB\n"
     ]
    },
    {
     "data": {
      "text/plain": [
       "None"
      ]
     },
     "metadata": {},
     "output_type": "display_data"
    },
    {
     "name": "stdout",
     "output_type": "stream",
     "text": [
      "<class 'pandas.core.frame.DataFrame'>\n",
      "RangeIndex: 667 entries, 0 to 666\n",
      "Columns: 168 entries, hero_names to Omniscient\n",
      "dtypes: bool(167), object(1)\n",
      "memory usage: 114.1+ KB\n"
     ]
    },
    {
     "data": {
      "text/plain": [
       "None"
      ]
     },
     "metadata": {},
     "output_type": "display_data"
    }
   ],
   "source": [
    "display(heroes_df.info())\n",
    "display(powers_df.info())"
   ]
  },
  {
   "cell_type": "code",
   "execution_count": 8,
   "metadata": {},
   "outputs": [
    {
     "data": {
      "text/plain": [
       "name           0\n",
       "Gender         0\n",
       "Eye color      0\n",
       "Race           0\n",
       "Hair color     0\n",
       "Height         0\n",
       "Publisher     15\n",
       "Skin color     0\n",
       "Alignment      0\n",
       "Weight         2\n",
       "dtype: int64"
      ]
     },
     "metadata": {},
     "output_type": "display_data"
    },
    {
     "data": {
      "text/plain": [
       "hero_names               0\n",
       "Agility                  0\n",
       "Accelerated Healing      0\n",
       "Lantern Power Ring       0\n",
       "Dimensional Awareness    0\n",
       "                        ..\n",
       "Phoenix Force            0\n",
       "Molecular Dissipation    0\n",
       "Vision - Cryo            0\n",
       "Omnipresent              0\n",
       "Omniscient               0\n",
       "Length: 168, dtype: int64"
      ]
     },
     "execution_count": 8,
     "metadata": {},
     "output_type": "execute_result"
    }
   ],
   "source": [
    "display(heroes_df.isna().sum())\n",
    "powers_df.isna().sum()"
   ]
  },
  {
   "cell_type": "code",
   "execution_count": 9,
   "metadata": {},
   "outputs": [
    {
     "data": {
      "text/html": [
       "<div>\n",
       "<style scoped>\n",
       "    .dataframe tbody tr th:only-of-type {\n",
       "        vertical-align: middle;\n",
       "    }\n",
       "\n",
       "    .dataframe tbody tr th {\n",
       "        vertical-align: top;\n",
       "    }\n",
       "\n",
       "    .dataframe thead th {\n",
       "        text-align: right;\n",
       "    }\n",
       "</style>\n",
       "<table border=\"1\" class=\"dataframe\">\n",
       "  <thead>\n",
       "    <tr style=\"text-align: right;\">\n",
       "      <th></th>\n",
       "      <th>Height</th>\n",
       "      <th>Weight</th>\n",
       "    </tr>\n",
       "  </thead>\n",
       "  <tbody>\n",
       "    <tr>\n",
       "      <td>count</td>\n",
       "      <td>734.000000</td>\n",
       "      <td>732.000000</td>\n",
       "    </tr>\n",
       "    <tr>\n",
       "      <td>mean</td>\n",
       "      <td>102.254087</td>\n",
       "      <td>43.855191</td>\n",
       "    </tr>\n",
       "    <tr>\n",
       "      <td>std</td>\n",
       "      <td>139.624543</td>\n",
       "      <td>130.823733</td>\n",
       "    </tr>\n",
       "    <tr>\n",
       "      <td>min</td>\n",
       "      <td>-99.000000</td>\n",
       "      <td>-99.000000</td>\n",
       "    </tr>\n",
       "    <tr>\n",
       "      <td>25%</td>\n",
       "      <td>-99.000000</td>\n",
       "      <td>-99.000000</td>\n",
       "    </tr>\n",
       "    <tr>\n",
       "      <td>50%</td>\n",
       "      <td>175.000000</td>\n",
       "      <td>62.000000</td>\n",
       "    </tr>\n",
       "    <tr>\n",
       "      <td>75%</td>\n",
       "      <td>185.000000</td>\n",
       "      <td>90.000000</td>\n",
       "    </tr>\n",
       "    <tr>\n",
       "      <td>max</td>\n",
       "      <td>975.000000</td>\n",
       "      <td>900.000000</td>\n",
       "    </tr>\n",
       "  </tbody>\n",
       "</table>\n",
       "</div>"
      ],
      "text/plain": [
       "           Height      Weight\n",
       "count  734.000000  732.000000\n",
       "mean   102.254087   43.855191\n",
       "std    139.624543  130.823733\n",
       "min    -99.000000  -99.000000\n",
       "25%    -99.000000  -99.000000\n",
       "50%    175.000000   62.000000\n",
       "75%    185.000000   90.000000\n",
       "max    975.000000  900.000000"
      ]
     },
     "metadata": {},
     "output_type": "display_data"
    },
    {
     "data": {
      "text/html": [
       "<div>\n",
       "<style scoped>\n",
       "    .dataframe tbody tr th:only-of-type {\n",
       "        vertical-align: middle;\n",
       "    }\n",
       "\n",
       "    .dataframe tbody tr th {\n",
       "        vertical-align: top;\n",
       "    }\n",
       "\n",
       "    .dataframe thead th {\n",
       "        text-align: right;\n",
       "    }\n",
       "</style>\n",
       "<table border=\"1\" class=\"dataframe\">\n",
       "  <thead>\n",
       "    <tr style=\"text-align: right;\">\n",
       "      <th></th>\n",
       "      <th>hero_names</th>\n",
       "      <th>Agility</th>\n",
       "      <th>Accelerated Healing</th>\n",
       "      <th>Lantern Power Ring</th>\n",
       "      <th>Dimensional Awareness</th>\n",
       "      <th>Cold Resistance</th>\n",
       "      <th>Durability</th>\n",
       "      <th>Stealth</th>\n",
       "      <th>Energy Absorption</th>\n",
       "      <th>Flight</th>\n",
       "      <th>...</th>\n",
       "      <th>Web Creation</th>\n",
       "      <th>Reality Warping</th>\n",
       "      <th>Odin Force</th>\n",
       "      <th>Symbiote Costume</th>\n",
       "      <th>Speed Force</th>\n",
       "      <th>Phoenix Force</th>\n",
       "      <th>Molecular Dissipation</th>\n",
       "      <th>Vision - Cryo</th>\n",
       "      <th>Omnipresent</th>\n",
       "      <th>Omniscient</th>\n",
       "    </tr>\n",
       "  </thead>\n",
       "  <tbody>\n",
       "    <tr>\n",
       "      <td>count</td>\n",
       "      <td>667</td>\n",
       "      <td>667</td>\n",
       "      <td>667</td>\n",
       "      <td>667</td>\n",
       "      <td>667</td>\n",
       "      <td>667</td>\n",
       "      <td>667</td>\n",
       "      <td>667</td>\n",
       "      <td>667</td>\n",
       "      <td>667</td>\n",
       "      <td>...</td>\n",
       "      <td>667</td>\n",
       "      <td>667</td>\n",
       "      <td>667</td>\n",
       "      <td>667</td>\n",
       "      <td>667</td>\n",
       "      <td>667</td>\n",
       "      <td>667</td>\n",
       "      <td>667</td>\n",
       "      <td>667</td>\n",
       "      <td>667</td>\n",
       "    </tr>\n",
       "    <tr>\n",
       "      <td>unique</td>\n",
       "      <td>667</td>\n",
       "      <td>2</td>\n",
       "      <td>2</td>\n",
       "      <td>2</td>\n",
       "      <td>2</td>\n",
       "      <td>2</td>\n",
       "      <td>2</td>\n",
       "      <td>2</td>\n",
       "      <td>2</td>\n",
       "      <td>2</td>\n",
       "      <td>...</td>\n",
       "      <td>2</td>\n",
       "      <td>2</td>\n",
       "      <td>2</td>\n",
       "      <td>2</td>\n",
       "      <td>2</td>\n",
       "      <td>2</td>\n",
       "      <td>2</td>\n",
       "      <td>2</td>\n",
       "      <td>2</td>\n",
       "      <td>2</td>\n",
       "    </tr>\n",
       "    <tr>\n",
       "      <td>top</td>\n",
       "      <td>Kilowog</td>\n",
       "      <td>False</td>\n",
       "      <td>False</td>\n",
       "      <td>False</td>\n",
       "      <td>False</td>\n",
       "      <td>False</td>\n",
       "      <td>False</td>\n",
       "      <td>False</td>\n",
       "      <td>False</td>\n",
       "      <td>False</td>\n",
       "      <td>...</td>\n",
       "      <td>False</td>\n",
       "      <td>False</td>\n",
       "      <td>False</td>\n",
       "      <td>False</td>\n",
       "      <td>False</td>\n",
       "      <td>False</td>\n",
       "      <td>False</td>\n",
       "      <td>False</td>\n",
       "      <td>False</td>\n",
       "      <td>False</td>\n",
       "    </tr>\n",
       "    <tr>\n",
       "      <td>freq</td>\n",
       "      <td>1</td>\n",
       "      <td>425</td>\n",
       "      <td>489</td>\n",
       "      <td>656</td>\n",
       "      <td>642</td>\n",
       "      <td>620</td>\n",
       "      <td>410</td>\n",
       "      <td>541</td>\n",
       "      <td>590</td>\n",
       "      <td>455</td>\n",
       "      <td>...</td>\n",
       "      <td>653</td>\n",
       "      <td>651</td>\n",
       "      <td>665</td>\n",
       "      <td>658</td>\n",
       "      <td>666</td>\n",
       "      <td>666</td>\n",
       "      <td>666</td>\n",
       "      <td>665</td>\n",
       "      <td>665</td>\n",
       "      <td>665</td>\n",
       "    </tr>\n",
       "  </tbody>\n",
       "</table>\n",
       "<p>4 rows × 168 columns</p>\n",
       "</div>"
      ],
      "text/plain": [
       "       hero_names Agility Accelerated Healing Lantern Power Ring  \\\n",
       "count         667     667                 667                667   \n",
       "unique        667       2                   2                  2   \n",
       "top       Kilowog   False               False              False   \n",
       "freq            1     425                 489                656   \n",
       "\n",
       "       Dimensional Awareness Cold Resistance Durability Stealth  \\\n",
       "count                    667             667        667     667   \n",
       "unique                     2               2          2       2   \n",
       "top                    False           False      False   False   \n",
       "freq                     642             620        410     541   \n",
       "\n",
       "       Energy Absorption Flight  ... Web Creation Reality Warping Odin Force  \\\n",
       "count                667    667  ...          667             667        667   \n",
       "unique                 2      2  ...            2               2          2   \n",
       "top                False  False  ...        False           False      False   \n",
       "freq                 590    455  ...          653             651        665   \n",
       "\n",
       "       Symbiote Costume Speed Force Phoenix Force Molecular Dissipation  \\\n",
       "count               667         667           667                   667   \n",
       "unique                2           2             2                     2   \n",
       "top               False       False         False                 False   \n",
       "freq                658         666           666                   666   \n",
       "\n",
       "       Vision - Cryo Omnipresent Omniscient  \n",
       "count            667         667        667  \n",
       "unique             2           2          2  \n",
       "top            False       False      False  \n",
       "freq             665         665        665  \n",
       "\n",
       "[4 rows x 168 columns]"
      ]
     },
     "execution_count": 9,
     "metadata": {},
     "output_type": "execute_result"
    }
   ],
   "source": [
    "display(heroes_df.describe())\n",
    "powers_df.describe()"
   ]
  },
  {
   "cell_type": "code",
   "execution_count": 10,
   "metadata": {},
   "outputs": [
    {
     "data": {
      "text/plain": [
       "Index(['name', 'Gender', 'Eye color', 'Race', 'Hair color', 'Publisher',\n",
       "       'Skin color', 'Alignment'],\n",
       "      dtype='object')"
      ]
     },
     "execution_count": 10,
     "metadata": {},
     "output_type": "execute_result"
    }
   ],
   "source": [
    "str_cols = heroes_df.select_dtypes('object').columns\n",
    "str_cols"
   ]
  },
  {
   "cell_type": "code",
   "execution_count": 11,
   "metadata": {
    "scrolled": false
   },
   "outputs": [
    {
     "data": {
      "text/plain": [
       "Spider-Man     0.004087\n",
       "Goliath        0.004087\n",
       "Nova           0.002725\n",
       "Vindicator     0.002725\n",
       "Firestorm      0.002725\n",
       "                 ...   \n",
       "Tiger Shark    0.001362\n",
       "Hellcat        0.001362\n",
       "Havok          0.001362\n",
       "Blackwulf      0.001362\n",
       "Husk           0.001362\n",
       "Name: name, Length: 715, dtype: float64"
      ]
     },
     "metadata": {},
     "output_type": "display_data"
    },
    {
     "data": {
      "text/plain": [
       "Male      0.688011\n",
       "Female    0.272480\n",
       "-         0.039510\n",
       "Name: Gender, dtype: float64"
      ]
     },
     "metadata": {},
     "output_type": "display_data"
    },
    {
     "data": {
      "text/plain": [
       "blue                       0.306540\n",
       "-                          0.234332\n",
       "brown                      0.171662\n",
       "green                      0.099455\n",
       "red                        0.062670\n",
       "black                      0.031335\n",
       "yellow                     0.025886\n",
       "white                      0.023161\n",
       "grey                       0.008174\n",
       "hazel                      0.008174\n",
       "purple                     0.005450\n",
       "gold                       0.004087\n",
       "yellow (without irises)    0.002725\n",
       "violet                     0.002725\n",
       "amber                      0.002725\n",
       "blue / white               0.001362\n",
       "silver                     0.001362\n",
       "green / blue               0.001362\n",
       "bown                       0.001362\n",
       "yellow / red               0.001362\n",
       "yellow / blue              0.001362\n",
       "white / red                0.001362\n",
       "indigo                     0.001362\n",
       "Name: Eye color, dtype: float64"
      ]
     },
     "metadata": {},
     "output_type": "display_data"
    },
    {
     "data": {
      "text/plain": [
       "-                0.414169\n",
       "Human            0.283379\n",
       "Mutant           0.085831\n",
       "God / Eternal    0.019074\n",
       "Cyborg           0.014986\n",
       "                   ...   \n",
       "Czarnian         0.001362\n",
       "Maiar            0.001362\n",
       "Strontian        0.001362\n",
       "Ungaran          0.001362\n",
       "Human-Vulcan     0.001362\n",
       "Name: Race, Length: 62, dtype: float64"
      ]
     },
     "metadata": {},
     "output_type": "display_data"
    },
    {
     "data": {
      "text/plain": [
       "-                   0.234332\n",
       "Black               0.215259\n",
       "Blond               0.134877\n",
       "Brown               0.117166\n",
       "No Hair             0.102180\n",
       "Red                 0.069482\n",
       "White               0.031335\n",
       "Auburn              0.017711\n",
       "Green               0.010899\n",
       "Strawberry Blond    0.009537\n",
       "Purple              0.006812\n",
       "Grey                0.006812\n",
       "Silver              0.005450\n",
       "Brown / White       0.005450\n",
       "black               0.004087\n",
       "blond               0.004087\n",
       "Blue                0.004087\n",
       "Orange              0.002725\n",
       "Yellow              0.002725\n",
       "Gold                0.001362\n",
       "Pink                0.001362\n",
       "Red / Orange        0.001362\n",
       "Red / White         0.001362\n",
       "Red / Grey          0.001362\n",
       "Brownn              0.001362\n",
       "Magenta             0.001362\n",
       "Indigo              0.001362\n",
       "Orange / White      0.001362\n",
       "Brown / Black       0.001362\n",
       "Black / Blue        0.001362\n",
       "Name: Hair color, dtype: float64"
      ]
     },
     "metadata": {},
     "output_type": "display_data"
    },
    {
     "data": {
      "text/plain": [
       "Marvel Comics        0.528610\n",
       "DC Comics            0.292916\n",
       "NBC - Heroes         0.025886\n",
       "Dark Horse Comics    0.024523\n",
       "NaN                  0.020436\n",
       "Image Comics         0.019074\n",
       "George Lucas         0.019074\n",
       "HarperCollins        0.008174\n",
       "Star Trek            0.008174\n",
       "Team Epic TV         0.006812\n",
       "SyFy                 0.006812\n",
       "ABC Studios          0.005450\n",
       "Shueisha             0.005450\n",
       "Icon Comics          0.005450\n",
       "IDW Publishing       0.005450\n",
       "Wildstorm            0.004087\n",
       "Sony Pictures        0.002725\n",
       "J. K. Rowling        0.001362\n",
       "Hanna-Barbera        0.001362\n",
       "South Park           0.001362\n",
       "Microsoft            0.001362\n",
       "Titan Books          0.001362\n",
       "J. R. R. Tolkien     0.001362\n",
       "Universal Studios    0.001362\n",
       "Rebellion            0.001362\n",
       "Name: Publisher, dtype: float64"
      ]
     },
     "metadata": {},
     "output_type": "display_data"
    },
    {
     "data": {
      "text/plain": [
       "-                 0.901907\n",
       "green             0.028610\n",
       "blue              0.012262\n",
       "red               0.012262\n",
       "white             0.009537\n",
       "grey              0.006812\n",
       "silver            0.006812\n",
       "gold              0.004087\n",
       "purple            0.004087\n",
       "yellow            0.002725\n",
       "pink              0.002725\n",
       "gray              0.001362\n",
       "black             0.001362\n",
       "orange            0.001362\n",
       "orange / white    0.001362\n",
       "red / black       0.001362\n",
       "blue-white        0.001362\n",
       "Name: Skin color, dtype: float64"
      ]
     },
     "metadata": {},
     "output_type": "display_data"
    },
    {
     "data": {
      "text/plain": [
       "good       0.675749\n",
       "bad        0.282016\n",
       "neutral    0.032698\n",
       "-          0.009537\n",
       "Name: Alignment, dtype: float64"
      ]
     },
     "metadata": {},
     "output_type": "display_data"
    }
   ],
   "source": [
    "for col in str_cols:\n",
    "        display(heroes_df[col].value_counts(normalize=True, dropna=False))"
   ]
  },
  {
   "cell_type": "code",
   "execution_count": 12,
   "metadata": {},
   "outputs": [
    {
     "data": {
      "text/plain": [
       "0      good\n",
       "1      good\n",
       "2      good\n",
       "3       bad\n",
       "4       bad\n",
       "       ... \n",
       "729    good\n",
       "730    good\n",
       "731    good\n",
       "732    good\n",
       "733     bad\n",
       "Name: Alignment, Length: 734, dtype: object"
      ]
     },
     "execution_count": 12,
     "metadata": {},
     "output_type": "execute_result"
    }
   ],
   "source": [
    "to_replace = {'-':np.nan}\n",
    "heroes_df['Alignment'].replace(to_replace)"
   ]
  },
  {
   "cell_type": "code",
   "execution_count": 13,
   "metadata": {},
   "outputs": [],
   "source": [
    "for col in str_cols:\n",
    "    heroes_df[col] = heroes_df[col].replace(to_replace)\n"
   ]
  },
  {
   "cell_type": "code",
   "execution_count": 26,
   "metadata": {},
   "outputs": [
    {
     "data": {
      "text/plain": [
       "name            0\n",
       "Gender         29\n",
       "Eye color     172\n",
       "Race          304\n",
       "Hair color    172\n",
       "Height          0\n",
       "Publisher      15\n",
       "Skin color    662\n",
       "Alignment       7\n",
       "Weight          0\n",
       "dtype: int64"
      ]
     },
     "execution_count": 26,
     "metadata": {},
     "output_type": "execute_result"
    }
   ],
   "source": [
    "heroes_df.isna().sum()"
   ]
  },
  {
   "cell_type": "markdown",
   "metadata": {},
   "source": [
    "## Dealing with missing values\n",
    "\n",
    "Starting in the cell below, detect and deal with any missing values in either DataFrame. Then, explain your methodology for detecting and dealing with outliers in the markdown section below. Be sure to explain your strategy for dealing with missing values in numeric columns, as well as your strategy for dealing with missing values in non-numeric columns.  \n",
    "\n",
    "Note that if you need to add more cells to write code in, you can do this by:\n",
    "\n",
    "**1.** Highlighting a cell and then pressing `ESC` to enter command mode.  \n",
    "**2.** Press `A` to add a cell above the highlighted cell, or `B` to add a cell below the highlighted cell. \n",
    "\n",
    "Describe your strategy below this line:\n",
    "Above I saw that powers does not have any missing data. Heroes is missing 15 publishers and 2 weight. I left publishers alone because there is not NaN and that isn't something you can really add on. For weight I replaced the two missing values with the median in order to not impact the std too much.\n",
    "\n"
   ]
  },
  {
   "cell_type": "code",
   "execution_count": 20,
   "metadata": {},
   "outputs": [
    {
     "data": {
      "text/plain": [
       "0      441.0\n",
       "1       65.0\n",
       "2       90.0\n",
       "3      441.0\n",
       "4      -99.0\n",
       "       ...  \n",
       "729     52.0\n",
       "730    -99.0\n",
       "731     17.0\n",
       "732     57.0\n",
       "733     81.0\n",
       "Name: Weight, Length: 734, dtype: float64"
      ]
     },
     "execution_count": 20,
     "metadata": {},
     "output_type": "execute_result"
    }
   ],
   "source": [
    "heroes_df['Weight']"
   ]
  },
  {
   "cell_type": "code",
   "execution_count": 27,
   "metadata": {},
   "outputs": [
    {
     "data": {
      "text/plain": [
       "NaN               662\n",
       "green              21\n",
       "red                 9\n",
       "blue                9\n",
       "white               7\n",
       "silver              5\n",
       "grey                5\n",
       "gold                3\n",
       "purple              3\n",
       "pink                2\n",
       "yellow              2\n",
       "black               1\n",
       "orange / white      1\n",
       "red / black         1\n",
       "orange              1\n",
       "blue-white          1\n",
       "gray                1\n",
       "Name: Skin color, dtype: int64"
      ]
     },
     "execution_count": 27,
     "metadata": {},
     "output_type": "execute_result"
    }
   ],
   "source": [
    "heroes_df['Skin color'].value_counts(dropna = False)"
   ]
  },
  {
   "cell_type": "code",
   "execution_count": 50,
   "metadata": {
    "scrolled": true
   },
   "outputs": [],
   "source": [
    "heroes_df['Skin color'] = heroes_df['Skin color'].fillna(value = \"missing\")"
   ]
  },
  {
   "cell_type": "code",
   "execution_count": 28,
   "metadata": {},
   "outputs": [
    {
     "data": {
      "text/plain": [
       "name          0.000000\n",
       "Gender        0.039510\n",
       "Eye color     0.234332\n",
       "Race          0.414169\n",
       "Hair color    0.234332\n",
       "Height        0.000000\n",
       "Publisher     0.020436\n",
       "Skin color    0.901907\n",
       "Alignment     0.009537\n",
       "Weight        0.000000\n",
       "dtype: float64"
      ]
     },
     "execution_count": 28,
     "metadata": {},
     "output_type": "execute_result"
    }
   ],
   "source": [
    "heroes_df.isna().sum()/len(heroes_df)"
   ]
  },
  {
   "cell_type": "code",
   "execution_count": 35,
   "metadata": {},
   "outputs": [
    {
     "data": {
      "text/plain": [
       "blue                       0.306540\n",
       "NaN                        0.234332\n",
       "brown                      0.171662\n",
       "green                      0.099455\n",
       "red                        0.062670\n",
       "black                      0.031335\n",
       "yellow                     0.025886\n",
       "white                      0.023161\n",
       "grey                       0.008174\n",
       "hazel                      0.008174\n",
       "purple                     0.005450\n",
       "gold                       0.004087\n",
       "violet                     0.002725\n",
       "amber                      0.002725\n",
       "yellow (without irises)    0.002725\n",
       "silver                     0.001362\n",
       "blue / white               0.001362\n",
       "green / blue               0.001362\n",
       "bown                       0.001362\n",
       "yellow / red               0.001362\n",
       "yellow / blue              0.001362\n",
       "white / red                0.001362\n",
       "indigo                     0.001362\n",
       "Name: Eye color, dtype: float64"
      ]
     },
     "execution_count": 35,
     "metadata": {},
     "output_type": "execute_result"
    }
   ],
   "source": [
    "heroes_df['Eye color'].value_counts(normalize=True, dropna = False)"
   ]
  },
  {
   "cell_type": "code",
   "execution_count": 34,
   "metadata": {
    "scrolled": true
   },
   "outputs": [],
   "source": [
    "rel_prob = [.31, .17, .10, .06]\n",
    "prob = [i/sum(rel_prob) for i in rel_prob]\n",
    "def impute_eye_color(value):\n",
    "    if value== 'NaN':\n",
    "        return np.random.choice(['blue', 'brown', 'green', 'red'], p=prob)\n",
    "    else:\n",
    "        return value\n",
    "heroes_df['Eye color'] = heroes_df['Eye color'].map(lambda x: impute_eye_color(x))"
   ]
  },
  {
   "cell_type": "code",
   "execution_count": 31,
   "metadata": {},
   "outputs": [
    {
     "data": {
      "text/plain": [
       "name            0\n",
       "Gender         29\n",
       "Eye color     172\n",
       "Race          304\n",
       "Hair color    172\n",
       "Height          0\n",
       "Publisher      15\n",
       "Skin color    662\n",
       "Alignment       7\n",
       "Weight          0\n",
       "dtype: int64"
      ]
     },
     "execution_count": 31,
     "metadata": {},
     "output_type": "execute_result"
    }
   ],
   "source": [
    "heroes_df.isna().sum()"
   ]
  },
  {
   "cell_type": "code",
   "execution_count": 55,
   "metadata": {},
   "outputs": [
    {
     "data": {
      "text/plain": [
       "Index(['good', 'bad', 'neutral'], dtype='object')"
      ]
     },
     "execution_count": 55,
     "metadata": {},
     "output_type": "execute_result"
    }
   ],
   "source": [
    "heroes_df[col].value_counts().index"
   ]
  },
  {
   "cell_type": "code",
   "execution_count": 56,
   "metadata": {},
   "outputs": [],
   "source": [
    "for col in str_cols:\n",
    "    val_counts = heroes_df[col].value_counts()\n",
    "    top_class = val_counts.index[0]\n",
    "    heroes_df"
   ]
  },
  {
   "cell_type": "markdown",
   "metadata": {},
   "source": [
    "## Joining, Grouping, and Aggregating\n",
    "\n",
    "In the cell below, join the two DataFrames.  Think about which sort of join you should use, as well as which columns you should join on.  Rename columns and manipulate as needed.  \n",
    "\n",
    "**_HINT:_** Consider the possibility that the columns you choose to join on contain duplicate entries. If that is the case, devise a strategy to deal with the duplicates.\n",
    "\n",
    "**_HINT:_** If the join throws an error message, consider setting the column you want to join on as the index for each DataFrame.  "
   ]
  },
  {
   "cell_type": "code",
   "execution_count": 36,
   "metadata": {},
   "outputs": [],
   "source": [
    "heroes_df.drop_duplicates(subset='name', inplace=True)"
   ]
  },
  {
   "cell_type": "code",
   "execution_count": 37,
   "metadata": {},
   "outputs": [],
   "source": [
    "heroes_df.reset_index(drop=True, inplace=True)"
   ]
  },
  {
   "cell_type": "code",
   "execution_count": 38,
   "metadata": {},
   "outputs": [],
   "source": [
    "powers_df.rename(columns={'hero_names':'name'}, inplace=True)"
   ]
  },
  {
   "cell_type": "code",
   "execution_count": 39,
   "metadata": {},
   "outputs": [],
   "source": [
    "powers_df = powers_df.astype('str')"
   ]
  },
  {
   "cell_type": "code",
   "execution_count": 40,
   "metadata": {},
   "outputs": [],
   "source": [
    "heroes_and_powers_df = powers_df.set_index('name').join(heroes_df.set_index('name'), how='inner')"
   ]
  },
  {
   "cell_type": "code",
   "execution_count": 41,
   "metadata": {},
   "outputs": [
    {
     "data": {
      "text/html": [
       "<div>\n",
       "<style scoped>\n",
       "    .dataframe tbody tr th:only-of-type {\n",
       "        vertical-align: middle;\n",
       "    }\n",
       "\n",
       "    .dataframe tbody tr th {\n",
       "        vertical-align: top;\n",
       "    }\n",
       "\n",
       "    .dataframe thead th {\n",
       "        text-align: right;\n",
       "    }\n",
       "</style>\n",
       "<table border=\"1\" class=\"dataframe\">\n",
       "  <thead>\n",
       "    <tr style=\"text-align: right;\">\n",
       "      <th></th>\n",
       "      <th>Agility</th>\n",
       "      <th>Accelerated Healing</th>\n",
       "      <th>Lantern Power Ring</th>\n",
       "      <th>Dimensional Awareness</th>\n",
       "      <th>Cold Resistance</th>\n",
       "      <th>Durability</th>\n",
       "      <th>Stealth</th>\n",
       "      <th>Energy Absorption</th>\n",
       "      <th>Flight</th>\n",
       "      <th>Danger Sense</th>\n",
       "      <th>...</th>\n",
       "      <th>Omniscient</th>\n",
       "      <th>Gender</th>\n",
       "      <th>Eye color</th>\n",
       "      <th>Race</th>\n",
       "      <th>Hair color</th>\n",
       "      <th>Height</th>\n",
       "      <th>Publisher</th>\n",
       "      <th>Skin color</th>\n",
       "      <th>Alignment</th>\n",
       "      <th>Weight</th>\n",
       "    </tr>\n",
       "    <tr>\n",
       "      <th>name</th>\n",
       "      <th></th>\n",
       "      <th></th>\n",
       "      <th></th>\n",
       "      <th></th>\n",
       "      <th></th>\n",
       "      <th></th>\n",
       "      <th></th>\n",
       "      <th></th>\n",
       "      <th></th>\n",
       "      <th></th>\n",
       "      <th></th>\n",
       "      <th></th>\n",
       "      <th></th>\n",
       "      <th></th>\n",
       "      <th></th>\n",
       "      <th></th>\n",
       "      <th></th>\n",
       "      <th></th>\n",
       "      <th></th>\n",
       "      <th></th>\n",
       "      <th></th>\n",
       "    </tr>\n",
       "  </thead>\n",
       "  <tbody>\n",
       "    <tr>\n",
       "      <td>A-Bomb</td>\n",
       "      <td>False</td>\n",
       "      <td>True</td>\n",
       "      <td>False</td>\n",
       "      <td>False</td>\n",
       "      <td>False</td>\n",
       "      <td>True</td>\n",
       "      <td>False</td>\n",
       "      <td>False</td>\n",
       "      <td>False</td>\n",
       "      <td>False</td>\n",
       "      <td>...</td>\n",
       "      <td>False</td>\n",
       "      <td>Male</td>\n",
       "      <td>yellow</td>\n",
       "      <td>Human</td>\n",
       "      <td>No Hair</td>\n",
       "      <td>203.0</td>\n",
       "      <td>Marvel Comics</td>\n",
       "      <td>NaN</td>\n",
       "      <td>good</td>\n",
       "      <td>441.0</td>\n",
       "    </tr>\n",
       "    <tr>\n",
       "      <td>Abe Sapien</td>\n",
       "      <td>True</td>\n",
       "      <td>True</td>\n",
       "      <td>False</td>\n",
       "      <td>False</td>\n",
       "      <td>True</td>\n",
       "      <td>True</td>\n",
       "      <td>False</td>\n",
       "      <td>False</td>\n",
       "      <td>False</td>\n",
       "      <td>False</td>\n",
       "      <td>...</td>\n",
       "      <td>False</td>\n",
       "      <td>Male</td>\n",
       "      <td>blue</td>\n",
       "      <td>Icthyo Sapien</td>\n",
       "      <td>No Hair</td>\n",
       "      <td>191.0</td>\n",
       "      <td>Dark Horse Comics</td>\n",
       "      <td>blue</td>\n",
       "      <td>good</td>\n",
       "      <td>65.0</td>\n",
       "    </tr>\n",
       "    <tr>\n",
       "      <td>Abin Sur</td>\n",
       "      <td>False</td>\n",
       "      <td>False</td>\n",
       "      <td>True</td>\n",
       "      <td>False</td>\n",
       "      <td>False</td>\n",
       "      <td>False</td>\n",
       "      <td>False</td>\n",
       "      <td>False</td>\n",
       "      <td>False</td>\n",
       "      <td>False</td>\n",
       "      <td>...</td>\n",
       "      <td>False</td>\n",
       "      <td>Male</td>\n",
       "      <td>blue</td>\n",
       "      <td>Ungaran</td>\n",
       "      <td>No Hair</td>\n",
       "      <td>185.0</td>\n",
       "      <td>DC Comics</td>\n",
       "      <td>red</td>\n",
       "      <td>good</td>\n",
       "      <td>90.0</td>\n",
       "    </tr>\n",
       "    <tr>\n",
       "      <td>Abomination</td>\n",
       "      <td>False</td>\n",
       "      <td>True</td>\n",
       "      <td>False</td>\n",
       "      <td>False</td>\n",
       "      <td>False</td>\n",
       "      <td>False</td>\n",
       "      <td>False</td>\n",
       "      <td>False</td>\n",
       "      <td>False</td>\n",
       "      <td>False</td>\n",
       "      <td>...</td>\n",
       "      <td>False</td>\n",
       "      <td>Male</td>\n",
       "      <td>green</td>\n",
       "      <td>Human / Radiation</td>\n",
       "      <td>No Hair</td>\n",
       "      <td>203.0</td>\n",
       "      <td>Marvel Comics</td>\n",
       "      <td>NaN</td>\n",
       "      <td>bad</td>\n",
       "      <td>441.0</td>\n",
       "    </tr>\n",
       "    <tr>\n",
       "      <td>Abraxas</td>\n",
       "      <td>False</td>\n",
       "      <td>False</td>\n",
       "      <td>False</td>\n",
       "      <td>True</td>\n",
       "      <td>False</td>\n",
       "      <td>False</td>\n",
       "      <td>False</td>\n",
       "      <td>False</td>\n",
       "      <td>True</td>\n",
       "      <td>False</td>\n",
       "      <td>...</td>\n",
       "      <td>False</td>\n",
       "      <td>Male</td>\n",
       "      <td>blue</td>\n",
       "      <td>Cosmic Entity</td>\n",
       "      <td>Black</td>\n",
       "      <td>-99.0</td>\n",
       "      <td>Marvel Comics</td>\n",
       "      <td>NaN</td>\n",
       "      <td>bad</td>\n",
       "      <td>-99.0</td>\n",
       "    </tr>\n",
       "  </tbody>\n",
       "</table>\n",
       "<p>5 rows × 176 columns</p>\n",
       "</div>"
      ],
      "text/plain": [
       "            Agility Accelerated Healing Lantern Power Ring  \\\n",
       "name                                                         \n",
       "A-Bomb        False                True              False   \n",
       "Abe Sapien     True                True              False   \n",
       "Abin Sur      False               False               True   \n",
       "Abomination   False                True              False   \n",
       "Abraxas       False               False              False   \n",
       "\n",
       "            Dimensional Awareness Cold Resistance Durability Stealth  \\\n",
       "name                                                                   \n",
       "A-Bomb                      False           False       True   False   \n",
       "Abe Sapien                  False            True       True   False   \n",
       "Abin Sur                    False           False      False   False   \n",
       "Abomination                 False           False      False   False   \n",
       "Abraxas                      True           False      False   False   \n",
       "\n",
       "            Energy Absorption Flight Danger Sense  ... Omniscient Gender  \\\n",
       "name                                               ...                     \n",
       "A-Bomb                  False  False        False  ...      False   Male   \n",
       "Abe Sapien              False  False        False  ...      False   Male   \n",
       "Abin Sur                False  False        False  ...      False   Male   \n",
       "Abomination             False  False        False  ...      False   Male   \n",
       "Abraxas                 False   True        False  ...      False   Male   \n",
       "\n",
       "            Eye color               Race Hair color Height          Publisher  \\\n",
       "name                                                                            \n",
       "A-Bomb         yellow              Human    No Hair  203.0      Marvel Comics   \n",
       "Abe Sapien       blue      Icthyo Sapien    No Hair  191.0  Dark Horse Comics   \n",
       "Abin Sur         blue            Ungaran    No Hair  185.0          DC Comics   \n",
       "Abomination     green  Human / Radiation    No Hair  203.0      Marvel Comics   \n",
       "Abraxas          blue      Cosmic Entity      Black  -99.0      Marvel Comics   \n",
       "\n",
       "            Skin color Alignment Weight  \n",
       "name                                     \n",
       "A-Bomb             NaN      good  441.0  \n",
       "Abe Sapien        blue      good   65.0  \n",
       "Abin Sur           red      good   90.0  \n",
       "Abomination        NaN       bad  441.0  \n",
       "Abraxas            NaN       bad  -99.0  \n",
       "\n",
       "[5 rows x 176 columns]"
      ]
     },
     "execution_count": 41,
     "metadata": {},
     "output_type": "execute_result"
    }
   ],
   "source": [
    "heroes_and_powers_df.head()"
   ]
  },
  {
   "cell_type": "markdown",
   "metadata": {},
   "source": [
    "In the cell below, subset male and female heroes into different dataframes.  Create a scatterplot of the height and weight of each hero, with weight as the y-axis.  Plot both the male and female heroes subset into each dataframe, and make the color for each point in the scatterplot correspond to the gender of the superhero."
   ]
  },
  {
   "cell_type": "code",
   "execution_count": 42,
   "metadata": {},
   "outputs": [
    {
     "data": {
      "text/plain": [
       "name           object\n",
       "Gender         object\n",
       "Eye color      object\n",
       "Race           object\n",
       "Hair color     object\n",
       "Height        float64\n",
       "Publisher      object\n",
       "Skin color     object\n",
       "Alignment      object\n",
       "Weight        float64\n",
       "dtype: object"
      ]
     },
     "execution_count": 42,
     "metadata": {},
     "output_type": "execute_result"
    }
   ],
   "source": [
    "heroes_df.dtypes"
   ]
  },
  {
   "cell_type": "code",
   "execution_count": 43,
   "metadata": {
    "scrolled": true
   },
   "outputs": [
    {
     "data": {
      "text/plain": [
       "<matplotlib.axes._subplots.AxesSubplot at 0x7fda2bcdecc0>"
      ]
     },
     "execution_count": 43,
     "metadata": {},
     "output_type": "execute_result"
    },
    {
     "data": {
      "image/png": "[encoded data removed]",
      "text/plain": [
       "<Figure size 432x288 with 1 Axes>"
      ]
     },
     "metadata": {
      "needs_background": "light"
     },
     "output_type": "display_data"
    }
   ],
   "source": [
    "male_heroes_df = heroes_df[heroes_df['Gender'] == 'Male']\n",
    "female_heroes_df = heroes_df[heroes_df['Gender'] == 'Female']\n",
    "\n",
    "ax = male_heroes_df.plot.scatter(x='Height', y='Weight', c='k', label='Male')\n",
    "female_heroes_df.plot.scatter(x='Height', y='Weight', c='c', label='Female', ax=ax)"
   ]
  },
  {
   "cell_type": "markdown",
   "metadata": {},
   "source": [
    "## Some Initial Investigation\n",
    "\n",
    "Next, slice the DataFrame as needed and visualize the distribution of heights and weights by gender.  You should have 4 total plots.  \n",
    "\n",
    "In the cell below:\n",
    "\n",
    "* Slice the DataFrame into separate DataFrames by gender\n",
    "* Complete the `show_distplot()` function.  This helper function should take in a DataFrame, a string containing the gender we want to visualize, and the column name we want to visualize by gender. The function should display a distplot visualization from seaborn of the column/gender combination.  \n",
    "\n",
    "Hint: Don't forget to check the [seaborn documentation for distplot](https://seaborn.pydata.org/generated/seaborn.distplot.html) if you have questions about how to use it correctly! "
   ]
  },
  {
   "cell_type": "code",
   "execution_count": 44,
   "metadata": {},
   "outputs": [],
   "source": [
    "import seaborn as sns"
   ]
  },
  {
   "cell_type": "code",
   "execution_count": 45,
   "metadata": {},
   "outputs": [],
   "source": [
    "male_heroes_df = heroes_df[heroes_df['Gender'] == 'Male']\n",
    "female_heroes_df = heroes_df[heroes_df['Gender'] == 'Female']\n",
    "\n",
    "def show_distplot(dataframe, gender, column_name):\n",
    "    plt.plot()\n",
    "    dataframe[column_name].hist()\n",
    "    plt.xlabel(column_name)\n",
    "    plt.ylabel('Density')\n",
    "    plt.title(f' Distribution of {column_name} for {gender} heroes')\n",
    "    plt.show()\n",
    "    \n",
    "    \n",
    "    "
   ]
  },
  {
   "cell_type": "code",
   "execution_count": 46,
   "metadata": {},
   "outputs": [
    {
     "data": {
      "image/png": "[encoded data removed]",
      "text/plain": [
       "<Figure size 432x288 with 1 Axes>"
      ]
     },
     "metadata": {
      "needs_background": "light"
     },
     "output_type": "display_data"
    },
    {
     "name": "stdout",
     "output_type": "stream",
     "text": [
      "mean      109.112016\n",
      "median    180.000000\n",
      "std       144.077887\n",
      "Name: Height, dtype: float64\n"
     ]
    }
   ],
   "source": [
    "# Male Height\n",
    "show_distplot(male_heroes_df, 'Male', 'Height')\n",
    "print(male_heroes_df['Height'].apply(['mean', 'median', 'std']))"
   ]
  },
  {
   "cell_type": "code",
   "execution_count": 70,
   "metadata": {},
   "outputs": [
    {
     "data": {
      "text/plain": [
       "(array([134.,   7., 315.,  20.,   1.,   0.,   0.,   1.,   0.,   2.]),\n",
       " array([-99. ,   8.4, 115.8, 223.2, 330.6, 438. , 545.4, 652.8, 760.2,\n",
       "        867.6, 975. ]),\n",
       " <a list of 10 Patch objects>)"
      ]
     },
     "execution_count": 70,
     "metadata": {},
     "output_type": "execute_result"
    },
    {
     "data": {
      "image/png": "[encoded data removed]",
      "text/plain": [
       "<Figure size 432x288 with 1 Axes>"
      ]
     },
     "metadata": {
      "needs_background": "light"
     },
     "output_type": "display_data"
    }
   ],
   "source": [
    "plt.hist(male_heroes_df['Height'])"
   ]
  },
  {
   "cell_type": "code",
   "execution_count": 47,
   "metadata": {},
   "outputs": [
    {
     "data": {
      "image/png": "[encoded data removed]",
      "text/plain": [
       "<Figure size 432x288 with 1 Axes>"
      ]
     },
     "metadata": {
      "needs_background": "light"
     },
     "output_type": "display_data"
    },
    {
     "name": "stdout",
     "output_type": "stream",
     "text": [
      "mean       53.556008\n",
      "median     79.000000\n",
      "std       139.737226\n",
      "Name: Weight, dtype: float64\n"
     ]
    }
   ],
   "source": [
    "# Male Weight\n",
    "show_distplot(male_heroes_df, 'Male', 'Weight')\n",
    "print(male_heroes_df['Weight'].apply(['mean', 'median', 'std']))"
   ]
  },
  {
   "cell_type": "code",
   "execution_count": 48,
   "metadata": {},
   "outputs": [
    {
     "data": {
      "text/plain": [
       "(array([158., 210.,  80.,  21.,  10.,   7.,   0.,   2.,   0.,   3.]),\n",
       " array([-99. ,   0.9, 100.8, 200.7, 300.6, 400.5, 500.4, 600.3, 700.2,\n",
       "        800.1, 900. ]),\n",
       " <a list of 10 Patch objects>)"
      ]
     },
     "execution_count": 48,
     "metadata": {},
     "output_type": "execute_result"
    },
    {
     "data": {
      "image/png": "[encoded data removed]",
      "text/plain": [
       "<Figure size 432x288 with 1 Axes>"
      ]
     },
     "metadata": {
      "needs_background": "light"
     },
     "output_type": "display_data"
    }
   ],
   "source": [
    "plt.hist(male_heroes_df['Weight'])"
   ]
  },
  {
   "cell_type": "code",
   "execution_count": 49,
   "metadata": {},
   "outputs": [
    {
     "data": {
      "image/png": "[encoded data removed]",
      "text/plain": [
       "<Figure size 432x288 with 1 Axes>"
      ]
     },
     "metadata": {
      "needs_background": "light"
     },
     "output_type": "display_data"
    },
    {
     "name": "stdout",
     "output_type": "stream",
     "text": [
      "mean       97.992347\n",
      "median    168.000000\n",
      "std       125.002405\n",
      "Name: Height, dtype: float64\n"
     ]
    }
   ],
   "source": [
    "# Female Height\n",
    "show_distplot(female_heroes_df, 'Female', 'Height')\n",
    "print(female_heroes_df['Height'].apply(['mean', 'median', 'std']))"
   ]
  },
  {
   "cell_type": "code",
   "execution_count": 50,
   "metadata": {},
   "outputs": [
    {
     "data": {
      "image/png": "[encoded data removed]",
      "text/plain": [
       "<Figure size 432x288 with 1 Axes>"
      ]
     },
     "metadata": {
      "needs_background": "light"
     },
     "output_type": "display_data"
    },
    {
     "name": "stdout",
     "output_type": "stream",
     "text": [
      "mean       27.433673\n",
      "median     54.000000\n",
      "std       104.243112\n",
      "Name: Weight, dtype: float64\n"
     ]
    }
   ],
   "source": [
    "# Female Weight\n",
    "show_distplot(female_heroes_df, 'Female', 'Weight')\n",
    "print(female_heroes_df['Weight'].apply(['mean', 'median', 'std']))"
   ]
  },
  {
   "cell_type": "markdown",
   "metadata": {},
   "source": [
    "Discuss your findings from the plots above, with respect to the distribution of height and weight by gender.  Your explanation should include a discussion of any relevant summary statistics, including mean, median, mode, and the overall shape of each distribution.  \n",
    "\n",
    "Write your answer below this line: Most of the data is positively skewed. We can see the median height for women is 168 with a median weight of 54. For males the median of height is 183 with a median weight of 53. The males graphs line up more portportionately in comparison to the females graphs.\n",
    "____________________________________________________________________________________________________________________________\n",
    "\n"
   ]
  },
  {
   "cell_type": "markdown",
   "metadata": {},
   "source": [
    "### Sample Question: Most Common Powers\n",
    "\n",
    "The rest of this notebook will be left to you to investigate the dataset by formulating your own questions, and then seeking answers using pandas and numpy.  Every answer should include some sort of visualization, when appropriate. Before moving on to formulating your own questions, use the dataset to answer the following questions about superhero powers:\n",
    "\n",
    "* What are the 5 most common powers overall?\n",
    "* What are the 5 most common powers in the Marvel Universe?\n",
    "* What are the 5 most common powers in the DC Universe?"
   ]
  },
  {
   "cell_type": "code",
   "execution_count": 58,
   "metadata": {},
   "outputs": [
    {
     "name": "stdout",
     "output_type": "stream",
     "text": [
      "[('Super Strength', 350), ('Stamina', 281), ('Durability', 251), ('Super Speed', 241), ('Agility', 235)]\n"
     ]
    }
   ],
   "source": [
    "def top_5_powers(dataframe):\n",
    "    df = dataframe.drop(heroes_df.columns.values[1:], axis=1)\n",
    "    columns = df.columns.values\n",
    "    for col in columns:\n",
    "        df[col] = df[col].map({'True' : 1, 'False': 0})\n",
    "        \n",
    "    powers_count_dict = dict(df.sum())\n",
    "    \n",
    "    return sorted(powers_count_dict.items(), key=lambda x: x[1], reverse=True)[:5]\n",
    "\n",
    "overall_top_5 = top_5_powers(heroes_and_powers_df)\n",
    "print(overall_top_5)"
   ]
  },
  {
   "cell_type": "code",
   "execution_count": 64,
   "metadata": {},
   "outputs": [
    {
     "name": "stdout",
     "output_type": "stream",
     "text": [
      "[('Agility', 0), ('Accelerated Healing', 0), ('Lantern Power Ring', 0), ('Dimensional Awareness', 0), ('Cold Resistance', 0)]\n"
     ]
    }
   ],
   "source": [
    "marvel_df = heroes_and_powers_df[heroes_and_powers_df['Publisher'] == 'Marvel']\n",
    "marvel_answer = top_5_powers(marvel_df)\n",
    "print(marvel_answer)"
   ]
  },
  {
   "cell_type": "code",
   "execution_count": 66,
   "metadata": {},
   "outputs": [
    {
     "name": "stdout",
     "output_type": "stream",
     "text": [
      "[('Super Strength', 103), ('Flight', 83), ('Stamina', 83), ('Super Speed', 75), ('Agility', 68)]\n"
     ]
    }
   ],
   "source": [
    "dc_df = heroes_and_powers_df[heroes_and_powers_df['Publisher'] == 'DC Comics']\n",
    "dc_answer = top_5_powers(dc_df)\n",
    "print(dc_answer)"
   ]
  },
  {
   "cell_type": "code",
   "execution_count": null,
   "metadata": {},
   "outputs": [],
   "source": []
  },
  {
   "cell_type": "markdown",
   "metadata": {},
   "source": [
    "Analyze the results you found above to answer the following question:\n",
    "\n",
    "How do the top 5 powers in the Marvel and DC universes compare?  Are they similar, or are there significant differences? How do they compare to the overall trends in the entire Superheroes dataset?\n",
    "\n",
    "Write your answer below this line:\n",
    "The only top 5 power that DC and Marvel share are Agility, the rest are different from one another. When comparing with the overall top 5 we can see that dc has more in common than Marvel with super strength, super speed, and agility in the top 5. This would lead me to believe that there are more dc superheroes than marvel with those powers.\n",
    "\n",
    "### Your Own Investigation\n",
    "\n",
    "For the remainder of this lab, you'll be focusing on coming up with and answering your own question, just like we did above.  Your question should not be overly simple, and should require both descriptive statistics and data visualization to answer.  In case you're unsure of what questions to ask, some sample questions have been provided below.\n",
    "\n",
    "Pick one of the following questions to investigate and answer, or come up with one of your own!\n",
    "\n",
    "* Which powers have the highest chance of co-occurring in a hero (e.g. super strength and flight), and does this differ by gender?\n",
    "* Is there a relationship between a hero's height and weight and their powerset?\n",
    "* What is the distribution of skin colors amongst alien heroes?\n",
    "\n",
    "Explain your question below this line:\n",
    "____________________________________________________________________________________________________________________________\n",
    "\n",
    "\n",
    "\n",
    "Some sample cells have been provided to give you room to work. If you need to create more cells, you can do this easily by:\n",
    "\n",
    "1. Highlighting a cell and then pressing `esc` to enter command mode.\n",
    "1. Pressing `b` to add a cell below the currently highlighted cell, or `a` to add one above it.  \n",
    "\n",
    "Be sure to include thoughtful, well-labeled visualizations to back up your analysis!"
   ]
  },
  {
   "cell_type": "code",
   "execution_count": 80,
   "metadata": {},
   "outputs": [
    {
     "name": "stdout",
     "output_type": "stream",
     "text": [
      "              name  Gender Eye color   Race Hair color  Height      Publisher  \\\n",
      "40          Ardina  Female     white  Alien     Orange   193.0  Marvel Comics   \n",
      "104      Blackwulf    Male       red  Alien      White   188.0  Marvel Comics   \n",
      "157        Century    Male     white  Alien      White   201.0  Marvel Comics   \n",
      "220       Doomsday    Male       red  Alien      White   244.0      DC Comics   \n",
      "238       Evilhawk    Male       red  Alien      Black   191.0  Marvel Comics   \n",
      "329         Indigo  Female       NaN  Alien     Purple   -99.0      DC Comics   \n",
      "586  Silver Surfer    Male     white  Alien    No Hair   193.0  Marvel Comics   \n",
      "\n",
      "    Skin color Alignment  Weight  \n",
      "40        gold      good    98.0  \n",
      "104        NaN       NaN    88.0  \n",
      "157       grey      good    97.0  \n",
      "220        NaN       bad   412.0  \n",
      "238      green       bad   106.0  \n",
      "329        NaN   neutral   -99.0  \n",
      "586     silver      good   101.0  \n"
     ]
    }
   ],
   "source": [
    "Aliens = heroes_df[heroes_df['Race'] == 'Alien']\n",
    "print(Aliens)"
   ]
  },
  {
   "cell_type": "code",
   "execution_count": 95,
   "metadata": {},
   "outputs": [],
   "source": [
    "Aliens = heroes_df[heroes_df['Race'] == 'Alien'].fillna('MISSING')"
   ]
  },
  {
   "cell_type": "code",
   "execution_count": 107,
   "metadata": {},
   "outputs": [
    {
     "data": {
      "text/html": [
       "<div>\n",
       "<style scoped>\n",
       "    .dataframe tbody tr th:only-of-type {\n",
       "        vertical-align: middle;\n",
       "    }\n",
       "\n",
       "    .dataframe tbody tr th {\n",
       "        vertical-align: top;\n",
       "    }\n",
       "\n",
       "    .dataframe thead th {\n",
       "        text-align: right;\n",
       "    }\n",
       "</style>\n",
       "<table border=\"1\" class=\"dataframe\">\n",
       "  <thead>\n",
       "    <tr style=\"text-align: right;\">\n",
       "      <th></th>\n",
       "      <th>name</th>\n",
       "      <th>Gender</th>\n",
       "      <th>Eye color</th>\n",
       "      <th>Race</th>\n",
       "      <th>Hair color</th>\n",
       "      <th>Height</th>\n",
       "      <th>Publisher</th>\n",
       "      <th>Skin color</th>\n",
       "      <th>Alignment</th>\n",
       "      <th>Weight</th>\n",
       "    </tr>\n",
       "  </thead>\n",
       "  <tbody>\n",
       "    <tr>\n",
       "      <td>40</td>\n",
       "      <td>Ardina</td>\n",
       "      <td>Female</td>\n",
       "      <td>white</td>\n",
       "      <td>Alien</td>\n",
       "      <td>Orange</td>\n",
       "      <td>193.0</td>\n",
       "      <td>Marvel Comics</td>\n",
       "      <td>gold</td>\n",
       "      <td>good</td>\n",
       "      <td>98.0</td>\n",
       "    </tr>\n",
       "    <tr>\n",
       "      <td>104</td>\n",
       "      <td>Blackwulf</td>\n",
       "      <td>Male</td>\n",
       "      <td>red</td>\n",
       "      <td>Alien</td>\n",
       "      <td>White</td>\n",
       "      <td>188.0</td>\n",
       "      <td>Marvel Comics</td>\n",
       "      <td>MISSING</td>\n",
       "      <td>MISSING</td>\n",
       "      <td>88.0</td>\n",
       "    </tr>\n",
       "    <tr>\n",
       "      <td>157</td>\n",
       "      <td>Century</td>\n",
       "      <td>Male</td>\n",
       "      <td>white</td>\n",
       "      <td>Alien</td>\n",
       "      <td>White</td>\n",
       "      <td>201.0</td>\n",
       "      <td>Marvel Comics</td>\n",
       "      <td>grey</td>\n",
       "      <td>good</td>\n",
       "      <td>97.0</td>\n",
       "    </tr>\n",
       "    <tr>\n",
       "      <td>220</td>\n",
       "      <td>Doomsday</td>\n",
       "      <td>Male</td>\n",
       "      <td>red</td>\n",
       "      <td>Alien</td>\n",
       "      <td>White</td>\n",
       "      <td>244.0</td>\n",
       "      <td>DC Comics</td>\n",
       "      <td>MISSING</td>\n",
       "      <td>bad</td>\n",
       "      <td>412.0</td>\n",
       "    </tr>\n",
       "    <tr>\n",
       "      <td>238</td>\n",
       "      <td>Evilhawk</td>\n",
       "      <td>Male</td>\n",
       "      <td>red</td>\n",
       "      <td>Alien</td>\n",
       "      <td>Black</td>\n",
       "      <td>191.0</td>\n",
       "      <td>Marvel Comics</td>\n",
       "      <td>green</td>\n",
       "      <td>bad</td>\n",
       "      <td>106.0</td>\n",
       "    </tr>\n",
       "    <tr>\n",
       "      <td>329</td>\n",
       "      <td>Indigo</td>\n",
       "      <td>Female</td>\n",
       "      <td>MISSING</td>\n",
       "      <td>Alien</td>\n",
       "      <td>Purple</td>\n",
       "      <td>-99.0</td>\n",
       "      <td>DC Comics</td>\n",
       "      <td>MISSING</td>\n",
       "      <td>neutral</td>\n",
       "      <td>-99.0</td>\n",
       "    </tr>\n",
       "    <tr>\n",
       "      <td>586</td>\n",
       "      <td>Silver Surfer</td>\n",
       "      <td>Male</td>\n",
       "      <td>white</td>\n",
       "      <td>Alien</td>\n",
       "      <td>No Hair</td>\n",
       "      <td>193.0</td>\n",
       "      <td>Marvel Comics</td>\n",
       "      <td>silver</td>\n",
       "      <td>good</td>\n",
       "      <td>101.0</td>\n",
       "    </tr>\n",
       "  </tbody>\n",
       "</table>\n",
       "</div>"
      ],
      "text/plain": [
       "              name  Gender Eye color   Race Hair color  Height      Publisher  \\\n",
       "40          Ardina  Female     white  Alien     Orange   193.0  Marvel Comics   \n",
       "104      Blackwulf    Male       red  Alien      White   188.0  Marvel Comics   \n",
       "157        Century    Male     white  Alien      White   201.0  Marvel Comics   \n",
       "220       Doomsday    Male       red  Alien      White   244.0      DC Comics   \n",
       "238       Evilhawk    Male       red  Alien      Black   191.0  Marvel Comics   \n",
       "329         Indigo  Female   MISSING  Alien     Purple   -99.0      DC Comics   \n",
       "586  Silver Surfer    Male     white  Alien    No Hair   193.0  Marvel Comics   \n",
       "\n",
       "    Skin color Alignment  Weight  \n",
       "40        gold      good    98.0  \n",
       "104    MISSING   MISSING    88.0  \n",
       "157       grey      good    97.0  \n",
       "220    MISSING       bad   412.0  \n",
       "238      green       bad   106.0  \n",
       "329    MISSING   neutral   -99.0  \n",
       "586     silver      good   101.0  "
      ]
     },
     "metadata": {},
     "output_type": "display_data"
    }
   ],
   "source": [
    "display(Aliens)"
   ]
  },
  {
   "cell_type": "code",
   "execution_count": 134,
   "metadata": {},
   "outputs": [
    {
     "data": {
      "text/plain": [
       "MISSING    3\n",
       "grey       1\n",
       "silver     1\n",
       "gold       1\n",
       "green      1\n",
       "Name: Skin color, dtype: int64"
      ]
     },
     "execution_count": 134,
     "metadata": {},
     "output_type": "execute_result"
    }
   ],
   "source": [
    "Aliens['Skin color'].value_counts()"
   ]
  },
  {
   "cell_type": "code",
   "execution_count": 133,
   "metadata": {},
   "outputs": [
    {
     "data": {
      "text/plain": [
       "Text(0, 0.5, 'Quantity of each')"
      ]
     },
     "execution_count": 133,
     "metadata": {},
     "output_type": "execute_result"
    },
    {
     "data": {
      "image/png": "[encoded data removed]",
      "text/plain": [
       "<Figure size 576x576 with 1 Axes>"
      ]
     },
     "metadata": {},
     "output_type": "display_data"
    }
   ],
   "source": [
    "fig, ax = plt.subplots(figsize = (8,8))\n",
    "ax.hist(Aliens['Skin color'], bins = 5)\n",
    "ax.set_title('Distribution of Alien Skin Color', fontsize = '20')\n",
    "ax.set_xlabel('Skin Color', fontsize = '16')\n",
    "ax.set_ylabel('Quantity of each', fontsize = '16')"
   ]
  },
  {
   "cell_type": "markdown",
   "metadata": {},
   "source": [
    "## Summary\n",
    "\n",
    "In this lab, we demonstrated our mastery of:\n",
    "* Using all of our Pandas knowledge to date to clean the dataset and deal with null values\n",
    "* Using Queries and aggregations to group the data into interesting subsets as needed\n",
    "* Using descriptive statistics and data visualization to find answers to questions we may have about the data"
   ]
  }
 ],
 "metadata": {
  "kernelspec": {
   "display_name": "Python 3",
   "language": "python",
   "name": "python3"
  },
  "language_info": {
   "codemirror_mode": {
    "name": "ipython",
    "version": 3
   },
   "file_extension": ".py",
   "mimetype": "text/x-python",
   "name": "python",
   "nbconvert_exporter": "python",
   "pygments_lexer": "ipython3",
   "version": "3.6.9"
  }
 },
 "nbformat": 4,
 "nbformat_minor": 2
}
